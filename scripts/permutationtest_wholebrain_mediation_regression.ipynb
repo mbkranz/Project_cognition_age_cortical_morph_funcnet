{
 "cells": [
  {
   "cell_type": "markdown",
   "metadata": {},
   "source": [
    "__run permutation tests from `regression_mediation_pervertex_wholebrain` script__"
   ]
  },
  {
   "cell_type": "code",
   "execution_count": 1,
   "metadata": {
    "collapsed": true
   },
   "outputs": [],
   "source": [
    "#general packages used for data import etc\n",
    "from nibabel import freesurfer as fs\n",
    "import pandas as pd\n",
    "import numpy as np\n",
    "import os,glob\n",
    "import re\n",
    "import cPickle as pkl #using csv now for file formats (except cv indices currently)\n",
    "from sklearn.feature_selection import variance_threshold\n",
    "from sklearn.utils import resample\n",
    "from joblib import Parallel,delayed\n",
    "idx=pd.IndexSlice"
   ]
  },
  {
   "cell_type": "code",
   "execution_count": 2,
   "metadata": {
    "collapsed": true
   },
   "outputs": [],
   "source": [
    "measure_list=['area','thickness']\n",
    "np_name_list=['Memory','ExFunction']\n",
    "hemilist=['rh','lh']\n",
    "bootlist=['bootscore','bootmean']\n",
    "meas_key={'thickness':np.int(0),'area':np.int(1)}\n",
    "hemi_key={'lh':np.int(0),'rh':np.int(1)}\n",
    "n=1000"
   ]
  },
  {
   "cell_type": "code",
   "execution_count": 3,
   "metadata": {
    "collapsed": true
   },
   "outputs": [],
   "source": [
    "def getannot(annotname):\n",
    "    #initiate DataFrame\n",
    "    #may want to make concatenation/join (instead of append) \n",
    "    #so can have one column per annotation/set of labels\n",
    "    annot_df=[]\n",
    "    for hemi in hemilist:\n",
    "        annot_data=fs.read_annot(\n",
    "            '/Applications/freesurfer/'\n",
    "            'subjects/fsaverage/'\n",
    "            'label/'+\n",
    "            hemi + \n",
    "            '.' + \n",
    "            annotname + \n",
    "             '.annot'\n",
    "        )\n",
    "        annot_hemi=pd.DataFrame(\n",
    "            {\"annot_label\" : annot_data[0],\n",
    "             \"annot_name\": annotname, \n",
    "             \"vertex_index\" : range(\n",
    "                 len(annot_data[0])\n",
    "             ), \n",
    "             \"hemi\": hemi_key[hemi]})\n",
    "        annot_df.append(annot_hemi)\n",
    "    annots=pd.concat(annot_df).set_index(\n",
    "        ['hemi','vertex_index']\n",
    "    )\n",
    "    return annots"
   ]
  },
  {
   "cell_type": "code",
   "execution_count": 4,
   "metadata": {
    "collapsed": true
   },
   "outputs": [],
   "source": [
    "def test_permutation(pklfile,\n",
    "                     num_perm=100000,\n",
    "                     threshList=[1.96,2.58,3.3,3.9]):\n",
    "    def get_network_summary(df,iteration='computed'):\n",
    "        def compute_summary(group):\n",
    "            total_sigvertices=[\n",
    "                (group>thresh).sum()+\n",
    "                (group<(-thresh)).sum()\n",
    "                for thresh in threshList\n",
    "            ]\n",
    "            return np.array(total_sigvertices)\n",
    "        df_copy=df.copy()\n",
    "        #for permutation test: shuffle annotation labels\n",
    "        if iteration!='computed': \n",
    "            df_copy['annot_label']=(\n",
    "                df_copy['annot_label']\n",
    "                .sample(frac=1)\n",
    "                .values\n",
    "            )\n",
    "        select_summary=(\n",
    "            df_copy\n",
    "            .set_index(['annot_label'])\n",
    "            ['bootscore']\n",
    "            .groupby(level=['annot_label'])\n",
    "            .apply(compute_summary))\n",
    "        return select_summary\n",
    "    bootdf=pd.read_pickle(pklfile)\n",
    "    multi_i=(\n",
    "        pd.MultiIndex.from_tuples(\n",
    "            bootdf['hemi_vertex'],\n",
    "            names=[0,'hemi','vertex_index']\n",
    "        )\n",
    "        .droplevel([0])\n",
    "    )\n",
    "    del bootdf['hemi_vertex']\n",
    "    bootdf=pd.DataFrame(\n",
    "        data=bootdf.values,\n",
    "        index=multi_i,\n",
    "        columns=bootdf.columns\n",
    "    )\n",
    "    annots=getannot('Yeo2011_7Networks_N1000')\n",
    "    bootdf_wannot=(\n",
    "        bootdf\n",
    "        .join(annots)\n",
    "        .query('annot_label!=0')\n",
    "    )\n",
    "    del bootdf_wannot['annot_name']\n",
    "    empirical_vals=np.vstack(\n",
    "        get_network_summary(\n",
    "            bootdf_wannot\n",
    "        )\n",
    "    )\n",
    "    perm_greaterthan=(\n",
    "        np.zeros(empirical_vals.shape)\n",
    "    )\n",
    "    perm_totalsigvertices=(\n",
    "        np.zeros(empirical_vals.shape)\n",
    "    )\n",
    "    #get permutations \n",
    "    #(shuffling network labels to make inferences)\n",
    "    for i in xrange(num_perm):\n",
    "        perm_vals=np.vstack(\n",
    "            get_network_summary(\n",
    "                bootdf_wannot,\n",
    "                iteration=i\n",
    "            )\n",
    "        )\n",
    "        perm_greaterthan+=perm_vals>=empirical_vals\n",
    "        perm_totalsigvertices+=perm_vals\n",
    "    perm_meansigvertices=np.divide(\n",
    "        perm_totalsigvertices,\n",
    "        num_perm\n",
    "    )\n",
    "    perm_pvals=np.divide(\n",
    "        perm_greaterthan,num_perm\n",
    "    )\n",
    "    multiindex=pd.MultiIndex.from_tuples(\n",
    "        tuples=zip(np.arange(1,8),\n",
    "                   [pklfile]*len(empirical_vals)),\n",
    "        names=['network','pklfile'])\n",
    "    return_vars=[\n",
    "        'perm_meansigvertices',\n",
    "        'perm_totalsigvertices',\n",
    "        'perm_greaterthan',\n",
    "        'perm_pvals',\n",
    "        'empirical_vals'\n",
    "    ]\n",
    "    return_df=pd.concat(\n",
    "        [(pd.DataFrame(\n",
    "                data=eval(x),\n",
    "                index=multiindex,\n",
    "                columns=threshList)\n",
    "          .assign(var=x)\n",
    "          .set_index(['var'],append=True))\n",
    "         for x in return_vars])\n",
    "    return return_df"
   ]
  },
  {
   "cell_type": "code",
   "execution_count": null,
   "metadata": {
    "collapsed": true
   },
   "outputs": [],
   "source": [
    "bootstrap_pklfile=!ls ../data/wholebrain_bootstrap/*.pkl\n",
    "summary_perms_all=pd.concat(\n",
    "    Parallel(5)(\n",
    "        delayed(test_permutation)\n",
    "        (pkl) \n",
    "        for pkl in bootstrap_pklfile\n",
    "    )\n",
    ")"
   ]
  },
  {
   "cell_type": "code",
   "execution_count": null,
   "metadata": {
    "collapsed": true
   },
   "outputs": [],
   "source": [
    "summary_perms_all.head()"
   ]
  },
  {
   "cell_type": "code",
   "execution_count": null,
   "metadata": {
    "collapsed": true
   },
   "outputs": [],
   "source": [
    "summary_perms_unstack=(\n",
    "    summary_perms_all\n",
    "    .stack()\n",
    "    .unstack(['var'])\n",
    ")\n",
    "summary_perms_unstack.head()"
   ]
  },
  {
   "cell_type": "code",
   "execution_count": null,
   "metadata": {
    "collapsed": true
   },
   "outputs": [],
   "source": [
    "(summary_perms_unstack\n",
    " .to_csv(\n",
    "     '../data/wholebrain_bootstrap/'\n",
    "     'wholebrain_bootstrap_\n",
    "     'bootscore_permtests.csv'\n",
    " )\n",
    ")"
   ]
  }
 ],
 "metadata": {
  "anaconda-cloud": {},
  "kernelspec": {
   "display_name": "Python 2",
   "language": "python",
   "name": "python2"
  },
  "language_info": {
   "codemirror_mode": {
    "name": "ipython",
    "version": 2
   },
   "file_extension": ".py",
   "mimetype": "text/x-python",
   "name": "python",
   "nbconvert_exporter": "python",
   "pygments_lexer": "ipython2",
   "version": "2.7.13"
  }
 },
 "nbformat": 4,
 "nbformat_minor": 1
}
