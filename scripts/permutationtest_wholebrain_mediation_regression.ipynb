{
 "cells": [
  {
   "cell_type": "markdown",
   "metadata": {},
   "source": [
    "__run permutation tests from `regression_mediation_pervertex_wholebrain` script__"
   ]
  },
  {
   "cell_type": "code",
   "execution_count": 1,
   "metadata": {},
   "outputs": [],
   "source": [
    "#general packages used for data import etc\n",
    "from nibabel import freesurfer as fs\n",
    "import pandas as pd\n",
    "import numpy as np\n",
    "import os,glob\n",
    "import re\n",
    "import cPickle as pkl #using csv now for file formats (except cv indices currently)\n",
    "from sklearn.feature_selection import variance_threshold\n",
    "from sklearn.utils import resample\n",
    "from joblib import Parallel,delayed\n",
    "import cPickle as pkl\n",
    "idx=pd.IndexSlice"
   ]
  },
  {
   "cell_type": "code",
   "execution_count": 2,
   "metadata": {},
   "outputs": [],
   "source": [
    "measure_list=['area','thickness']\n",
    "np_name_list=['Memory','ExFunction']\n",
    "hemilist=['rh','lh']\n",
    "bootlist=['bootscore','bootmean']\n",
    "meas_key={'thickness':np.int(0),'area':np.int(1)}\n",
    "hemi_key={'lh':np.int(0),'rh':np.int(1)}"
   ]
  },
  {
   "cell_type": "code",
   "execution_count": 3,
   "metadata": {},
   "outputs": [],
   "source": [
    "def read_assign_pkl_df(hemi,meas,np_name,anal):\n",
    "    pklname=('../data/wholebrain_bootstrap/'+\n",
    "             '{}_{}_{}_{}_boot_score.pkl'.format(hemi,meas,np_name,anal))\n",
    "    df=pd.read_pickle(pklname).assign(hemi=hemi_key[hemi],\n",
    "                             meas=meas_key[meas],\n",
    "                             np_name=np_name,\n",
    "                             anal=anal)\n",
    "    return df"
   ]
  },
  {
   "cell_type": "code",
   "execution_count": 4,
   "metadata": {},
   "outputs": [],
   "source": [
    "def getannot(annotname):\n",
    "    #initiate DataFrame\n",
    "    #may want to make concatenation/join (instead of append) \n",
    "    #so can have one column per annotation/set of labels\n",
    "    annot_df=[]\n",
    "    for hemi in hemilist:\n",
    "        annot_data=fs.read_annot(\n",
    "            '/Applications/freesurfer/subjects/fsaverage/label/'+\n",
    "            hemi + '.' + annotname + '.annot')\n",
    "        annot_hemi=pd.DataFrame(\n",
    "            {\"annot_label\" : annot_data[0],\n",
    "             \"annot_name\": annotname, \n",
    "             \"vertex_index\" : range(\n",
    "                 len(annot_data[0])), \n",
    "             \"hemi\": hemi_key[hemi]})\n",
    "        annot_df.append(annot_hemi)\n",
    "    annots=pd.concat(annot_df).set_index(\n",
    "        ['hemi','vertex_index'])\n",
    "    return annots"
   ]
  },
  {
   "cell_type": "code",
   "execution_count": 5,
   "metadata": {},
   "outputs": [],
   "source": [
    "def get_network_summary(df,threshList=[1.96,2.58,3.3,3.9],\n",
    "                        iteration='computed'):\n",
    "    '''get a summary of the number of vertices that pass a list of\n",
    "    thresholds'''\n",
    "    def compute_summary(group):\n",
    "        '''to be applied in pd.groupby.apply\n",
    "        summarizes the total number of vertices that pass boot score\n",
    "        threshold based on lists of different thresholds'''\n",
    "        total_sigvertices=[\n",
    "            (group>thresh).sum()+\n",
    "            (group<(-thresh)).sum()\n",
    "            for thresh in threshList]\n",
    "        return pd.Series(total_sigvertices,\n",
    "                         name='total_sigvertices',\n",
    "                         index=pd.Index(threshList,name='thresh'))\n",
    "    df_copy=df.copy()\n",
    "    #for permutation test: shuffle annotation labels\n",
    "    if iteration!='computed': \n",
    "        df_copy['annot_label']=(df_copy['annot_label']\n",
    "                                .sample(frac=1)\n",
    "                                .values)\n",
    "    select_summary=(df_copy\n",
    "                    .set_index(['annot_label'])\n",
    "                    ['boot_score']\n",
    "                    .groupby(level=['annot_label'])\n",
    "                    .apply(compute_summary))\n",
    "    return select_summary"
   ]
  },
  {
   "cell_type": "code",
   "execution_count": 6,
   "metadata": {},
   "outputs": [],
   "source": [
    "def _chunk_permutation_test(bootdf,permList,\n",
    "                     threshList=[1.96,2.58,3.3,3.9]):\n",
    "    empirical_vals=(bootdf\n",
    "            .query('annot_label!=0')\n",
    "            .groupby(['anal','meas','np_name'])\n",
    "            .apply(get_network_summary)\n",
    "            .stack(['annot_label','thresh']))\n",
    "    perm_greaterthan=empirical_vals.transform(lambda x: 0)\n",
    "    perm_totalsigvertices=empirical_vals.transform(lambda x: 0)\n",
    "    for i in permList:\n",
    "        perm_vals=(bootdf\n",
    "            .query('annot_label!=0')\n",
    "            .groupby(['anal','meas','np_name'])\n",
    "            .apply(get_network_summary,iteration=i)\n",
    "            .stack(['annot_label','thresh']))\n",
    "        perm_greaterthan+=perm_vals>=empirical_vals\n",
    "        perm_totalsigvertices+=perm_vals\n",
    "    return (perm_greaterthan,perm_totalsigvertices)"
   ]
  },
  {
   "cell_type": "code",
   "execution_count": 7,
   "metadata": {},
   "outputs": [],
   "source": [
    "boot_df=pd.concat(read_assign_pkl_df(hemi,meas,np_name,anal) \n",
    "               for hemi in hemilist\n",
    "               for meas in meas_key.iterkeys()\n",
    "               for np_name in np_name_list\n",
    "               for anal in ['mediate','pcorr_cog'])"
   ]
  },
  {
   "cell_type": "code",
   "execution_count": 8,
   "metadata": {},
   "outputs": [],
   "source": [
    "n_jobs=10\n",
    "num_perm=100000"
   ]
  },
  {
   "cell_type": "code",
   "execution_count": null,
   "metadata": {},
   "outputs": [],
   "source": [
    "empirical_vals=(boot_df\n",
    "            .query('annot_label!=0')\n",
    "            .groupby(['anal','meas','np_name'])\n",
    "            .apply(get_network_summary)\n",
    "            .stack(['annot_label','thresh']))\n",
    "permList=np.arange(0,num_perm)\n",
    "permChunks=np.split(permList,n_jobs)\n",
    "permResultList=Parallel(n_jobs)(\n",
    "    delayed(_chunk_permutation_test)\n",
    "    (boot_df,perms) for perms in permChunks)"
   ]
  },
  {
   "cell_type": "code",
   "execution_count": null,
   "metadata": {},
   "outputs": [],
   "source": [
    "perm_greaterthan=empirical_vals.transform(lambda x: 0)\n",
    "perm_totalsigvertices=empirical_vals.transform(lambda x: 0)\n",
    "for chunk_greaterthan,chunk_total in permResultList:\n",
    "    perm_greaterthan+=chunk_greaterthan\n",
    "    perm_totalsigvertices+=chunk_total\n",
    "perm_meansigvertices=perm_totalsigvertices/num_perm\n",
    "perm_pvals=perm_greaterthan/num_perm"
   ]
  },
  {
   "cell_type": "code",
   "execution_count": null,
   "metadata": {},
   "outputs": [],
   "source": [
    "def rename_series(series_name):\n",
    "    return eval(series_name).rename(series_name)\n",
    "perm_name_List=['empirical_vals','perm_greaterthan',\n",
    "                'perm_meansigvertices','perm_pvals']\n",
    "summary_perms=pd.DataFrame([rename_series(x) for x in perm_name_List]).T"
   ]
  },
  {
   "cell_type": "code",
   "execution_count": null,
   "metadata": {},
   "outputs": [],
   "source": [
    "(summary_perms.to_csv(\n",
    "     '../data/wholebrain_bootstrap/'\n",
    "     'wholebrain_bootstrap_\n",
    "     'bootscore_permtests_4_17_18.csv'))"
   ]
  },
  {
   "cell_type": "code",
   "execution_count": null,
   "metadata": {},
   "outputs": [],
   "source": []
  }
 ],
 "metadata": {
  "anaconda-cloud": {},
  "kernelspec": {
   "display_name": "Python 2",
   "language": "python",
   "name": "python2"
  },
  "language_info": {
   "codemirror_mode": {
    "name": "ipython",
    "version": 2
   },
   "file_extension": ".py",
   "mimetype": "text/x-python",
   "name": "python",
   "nbconvert_exporter": "python",
   "pygments_lexer": "ipython2",
   "version": "2.7.14"
  }
 },
 "nbformat": 4,
 "nbformat_minor": 1
}
