{
 "cells": [
  {
   "cell_type": "code",
   "execution_count": 13,
   "metadata": {
    "collapsed": true
   },
   "outputs": [],
   "source": [
    "%matplotlib inline"
   ]
  },
  {
   "cell_type": "code",
   "execution_count": 79,
   "metadata": {
    "collapsed": true
   },
   "outputs": [],
   "source": [
    "import networkx as nx\n",
    "import matplotlib.pyplot as plt"
   ]
  },
  {
   "cell_type": "code",
   "execution_count": 1,
   "metadata": {
    "collapsed": true
   },
   "outputs": [],
   "source": [
    "import os,glob"
   ]
  },
  {
   "cell_type": "code",
   "execution_count": 65,
   "metadata": {
    "collapsed": true
   },
   "outputs": [],
   "source": [
    "os.chdir('/Volumes/Users/mbkranz/projects/git_repo_backups/predicting_cognition_cortical_morphometry_functional_networks/scripts/')"
   ]
  },
  {
   "cell_type": "code",
   "execution_count": 106,
   "metadata": {
    "collapsed": true
   },
   "outputs": [],
   "source": [
    "test=nx.DiGraph()"
   ]
  },
  {
   "cell_type": "code",
   "execution_count": 107,
   "metadata": {
    "collapsed": true
   },
   "outputs": [],
   "source": [
    "test.add_edge('MakeDataFrames\\nCorticalMorph.ipynb',\n",
    "              'cv_results.ipynb')\n",
    "test.add_edge('cv_results.ipynb',\n",
    "             'cv_makedfs.R')\n",
    "test.add_edge('cv_makedfs.R',\n",
    "             'cv_predict.R')"
   ]
  },
  {
   "cell_type": "code",
   "execution_count": 108,
   "metadata": {
    "collapsed": true
   },
   "outputs": [],
   "source": [
    "test.add_edge('MakeDataFrames\\nCorticalMorph.ipynb',\n",
    "             'regression_\\nmediation_\\npervertex_\\nwholebrain.ipynb')\n",
    "test.add_edge('regression_\\nmediation_\\npervertex_\\nwholebrain.ipynb',\n",
    "             'permutationtest_\\nwholebrain_\\nmediation_\\nregression.ipynb')\n",
    "test.add_edge('permutationtest_\\nwholebrain_\\nmediation_\\nregression.ipynb',\n",
    "             'CorticalMorph_\\nBootstrap_\\nnumvertex_\\nwholebrain.R')\n",
    "test.add_edge('regression_\\nmediation_\\npervertex_\\nwholebrain.ipynb',\n",
    "             'visualize_\\nwholebrain_\\nmediation_\\nregression.ipynb')"
   ]
  },
  {
   "cell_type": "code",
   "execution_count": 119,
   "metadata": {
    "collapsed": true
   },
   "outputs": [],
   "source": [
    "node_pos={'make_npdata_from_pca.R':(0,.5),\n",
    " 'MakeDataFrames\\nCorticalMorph.ipynb':(0,.5),\n",
    " 'cv_results.ipynb':(.1,.8),\n",
    " 'cv_makedfs.R':(.2,.8),\n",
    " 'cv_predict.R':(.3,.8),\n",
    " 'regression_\\nmediation_\\npervertex_\\nwholebrain.ipynb':(.1,.3),\n",
    "'permutationtest_\\nwholebrain_\\nmediation_\\nregression.ipynb':(.2,.6),\n",
    " 'CorticalMorph_\\nBootstrap_\\nnumvertex_\\nwholebrain.R':(.3,.6),\n",
    " 'visualize_\\nwholebrain_\\nmediation_\\nregression.ipynb':(.25,.3)}"
   ]
  },
  {
   "cell_type": "code",
   "execution_count": 121,
   "metadata": {},
   "outputs": [
    {
     "data": {
      "image/png": "[encoded data removed]",
      "text/plain": [
       "<matplotlib.figure.Figure at 0x10ed29550>"
      ]
     },
     "metadata": {},
     "output_type": "display_data"
    }
   ],
   "source": [
    "nx.draw_networkx(test,\n",
    "                 linewidths=0,\n",
    "                 arrows=False,\n",
    "                 node_size=1700,\n",
    "                 font_size=5,\n",
    "                 pos=node_pos,\n",
    "                 node_shape='s',)\n",
    "plt.axis('off')\n",
    "plt.savefig('../figures/CorticalMorphScript_WorkFlow.png',dpi=300)"
   ]
  },
  {
   "cell_type": "code",
   "execution_count": null,
   "metadata": {
    "collapsed": true
   },
   "outputs": [],
   "source": []
  }
 ],
 "metadata": {
  "kernelspec": {
   "display_name": "Python 2",
   "language": "python",
   "name": "python2"
  },
  "language_info": {
   "codemirror_mode": {
    "name": "ipython",
    "version": 2
   },
   "file_extension": ".py",
   "mimetype": "text/x-python",
   "name": "python",
   "nbconvert_exporter": "python",
   "pygments_lexer": "ipython2",
   "version": "2.7.13"
  }
 },
 "nbformat": 4,
 "nbformat_minor": 2
}
